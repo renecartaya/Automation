{
 "cells": [
  {
   "cell_type": "code",
   "execution_count": 1,
   "id": "ad4f5dff-e7fe-44af-956a-feb651bf660a",
   "metadata": {},
   "outputs": [],
   "source": [
    "#####################################################################\n",
    "#\n",
    "#                           PID Control\n",
    "#\n",
    "#####################################################################"
   ]
  },
  {
   "cell_type": "code",
   "execution_count": 7,
   "id": "2af0c5cd-b55f-4f7b-938a-4c6aa07658d0",
   "metadata": {},
   "outputs": [
    {
     "data": {
      "image/png": "[encoded data removed]",
      "text/plain": [
       "<Figure size 432x288 with 1 Axes>"
      ]
     },
     "metadata": {
      "needs_background": "light"
     },
     "output_type": "display_data"
    },
    {
     "data": {
      "image/png": "[encoded data removed]",
      "text/plain": [
       "<Figure size 432x288 with 1 Axes>"
      ]
     },
     "metadata": {
      "needs_background": "light"
     },
     "output_type": "display_data"
    }
   ],
   "source": [
    "# Basic example of PID Control in a tank\n",
    "\n",
    "import numpy as np\n",
    "from scipy.integrate import odeint\n",
    "import matplotlib.pyplot as plt\n",
    "\n",
    "# initial condition\n",
    "# y0 = input(\"Please enter here\")\n",
    "y0 = 0 # m\n",
    "# function that return dy/dt\n",
    "def tank(h,t):\n",
    "    F0 = 1 # m**3/min\n",
    "    A = 10 # m**2\n",
    "    beta = 2 # \n",
    "    dhdt = F0/A - beta/A*np.sqrt(h) # m/min\n",
    "    return dhdt\n",
    "\n",
    "# time points \n",
    "\n",
    "t = np.linspace(0,100,101)\n",
    "F0 = 1 # m**3/min\n",
    "\n",
    "# solve ODE\n",
    "\n",
    "y = odeint(tank, y0, t)\n",
    "\n",
    "ns = len(t)\n",
    "\n",
    "ysp = 0.5\n",
    "\n",
    "epp_0 = 0\n",
    "ep_0 = 0\n",
    "ep = 0\n",
    "kc = 2\n",
    "tauI = 1\n",
    "tauD = 0\n",
    "\n",
    "F0_ctrl = 0\n",
    "\n",
    "yd0 = y0\n",
    "ydf = []\n",
    "F0_ctrl_t = []\n",
    "F0_ctrl_t.append(float(0))\n",
    "ydf.append(float(y0))\n",
    "\n",
    "for i in range(0,ns-1):\n",
    "    # if i > 25:\n",
    "    #     F0 = 1 - 0.5 \n",
    "    ts = [t[i], t[i+1]]\n",
    "    F0 = F0_ctrl\n",
    "    yd = odeint(tank, yd0,ts)\n",
    "    yd0 = yd[-1]\n",
    "    ydf.append(float(yd0))\n",
    "    \n",
    "    ## PID\n",
    "    \n",
    "    delta_t = t[i+1]-t[i]\n",
    "    \n",
    "    epp_0 = 0\n",
    "    ep_0 = ep\n",
    "    ep = ysp - yd0\n",
    "    delta_u = kc*((ep-ep_0) + ep/float(tauI)*delta_t + tauD/float(delta_t)*(ep-2*ep_0+epp_0))\n",
    "    F0_ctrl = F0_ctrl + delta_u\n",
    "    F0_ctrl_t.append(float(F0_ctrl))\n",
    "\n",
    "#print('altura', y_tf,\"m\")\n",
    "\n",
    "# plot results\n",
    "\n",
    "plt.plot(t,y,t,ydf)\n",
    "plt.xlabel('time, min')\n",
    "plt.ylabel('h(t), m')\n",
    "plt.show()\n",
    "\n",
    "plt.plot(t[0:101], F0_ctrl_t)\n",
    "plt.xlabel('time, min')\n",
    "plt.ylabel('F(t),m3')\n",
    "plt.show()\n"
   ]
  },
  {
   "cell_type": "code",
   "execution_count": null,
   "id": "ec44a07e-8d12-4e1d-8062-3aa9dddb7452",
   "metadata": {},
   "outputs": [],
   "source": []
  }
 ],
 "metadata": {
  "kernelspec": {
   "display_name": "Python 3 (ipykernel)",
   "language": "python",
   "name": "python3"
  },
  "language_info": {
   "codemirror_mode": {
    "name": "ipython",
    "version": 3
   },
   "file_extension": ".py",
   "mimetype": "text/x-python",
   "name": "python",
   "nbconvert_exporter": "python",
   "pygments_lexer": "ipython3",
   "version": "3.9.7"
  }
 },
 "nbformat": 4,
 "nbformat_minor": 5
}
