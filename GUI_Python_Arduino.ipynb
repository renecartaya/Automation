{
 "cells": [
  {
   "cell_type": "code",
   "execution_count": 1,
   "id": "3c43e8a8-62cd-4d9b-89d0-8f73b6b86bd1",
   "metadata": {},
   "outputs": [],
   "source": [
    "##################################################################################\n",
    "#\n",
    "#                         Arduino Interfacing with Python\n",
    "#\n",
    "##################################################################################"
   ]
  },
  {
   "cell_type": "code",
   "execution_count": 20,
   "id": "38a2fc62-b2e6-4cf7-9364-1e15009e7719",
   "metadata": {},
   "outputs": [],
   "source": [
    "############################# Packages loading ###################################\n",
    "\n",
    "import serial # require pip install PySerial for Serial communication\n",
    "from tkinter import *\n",
    "import tkinter as tk \n",
    "import time   #for delay functions"
   ]
  },
  {
   "cell_type": "code",
   "execution_count": 3,
   "id": "25de4383-a880-492c-9be2-d18927adbe25",
   "metadata": {},
   "outputs": [],
   "source": [
    "##################################################################################\n",
    "# Basic Functions that represent the building blocks of the Program\n",
    "##################################################################################"
   ]
  },
  {
   "cell_type": "code",
   "execution_count": 23,
   "id": "07bb2e7e-8ad4-4ab4-a303-9d416ae5b95c",
   "metadata": {},
   "outputs": [],
   "source": [
    "ser = serial.Serial('COM5', 9600)  # open serial port\n",
    "time.sleep(2)                      # wait 2 seconds"
   ]
  },
  {
   "cell_type": "code",
   "execution_count": 5,
   "id": "53400f7a-62c4-415f-85c3-a99a9bb6f3cd",
   "metadata": {},
   "outputs": [],
   "source": [
    "turn_LED_ON = ser.write(b'H') # Turn ON the LED"
   ]
  },
  {
   "cell_type": "code",
   "execution_count": 6,
   "id": "7139ddea-a138-4773-9890-d9f963aa506f",
   "metadata": {},
   "outputs": [],
   "source": [
    "turn_LED_OFF = ser.write(b'L') # Turn OFF the LED"
   ]
  },
  {
   "cell_type": "code",
   "execution_count": 7,
   "id": "d7488cf8-7d11-45c0-a0b2-ee1a7c860464",
   "metadata": {},
   "outputs": [],
   "source": [
    "############# Definition of the Functions ############################################"
   ]
  },
  {
   "cell_type": "code",
   "execution_count": 24,
   "id": "e05d6eaa-b6be-45e5-9f02-059c4d7df02f",
   "metadata": {},
   "outputs": [],
   "source": [
    "def turn_LED_ON():\n",
    "    ser.write(b'H')\n",
    "\n",
    "def turn_LED_OFF(): \n",
    "    ser.write(b'L')"
   ]
  },
  {
   "cell_type": "code",
   "execution_count": null,
   "id": "cc623e8a-6f0d-4230-93fc-c270118e1891",
   "metadata": {},
   "outputs": [],
   "source": [
    "################### Basic GUI based in tkinter ####################################### "
   ]
  },
  {
   "cell_type": "code",
   "execution_count": 25,
   "id": "66edc967-0e28-484c-a1b0-8021895bd437",
   "metadata": {},
   "outputs": [],
   "source": [
    "root = Tk()\n",
    "root.wm_iconbitmap('C:/Users/renea/Pictures/Logos/th_owl_logo_small.ico')\n",
    "root.wm_title('Center for Molecular Fingerprinting')\n",
    "root.resizable(width=False, height=False)\n",
    "root.geometry(\"450x130+300+40\")\n",
    "\n",
    "mainFrame = Frame(root, bd=10, bg='gainsboro',relief=RIDGE)\n",
    "mainFrame.grid()\n",
    "\n",
    "innerFrame = Frame(mainFrame, bd=5, bg='gainsboro', relief=RIDGE)\n",
    "innerFrame.grid()\n",
    "\n",
    "\n",
    "        #============================================Buttons Widget===============================================#\n",
    "\n",
    "btn_On = Button(innerFrame, text=\"LED ON\", width=10, height =2, font=('arial',18,'bold'), bd=7, bg='gainsboro', command=turn_LED_ON)\n",
    "btn_On.grid(row=0,column = 0)\n",
    "\n",
    "btn_Off = Button(innerFrame, text=\"LED OFF\", width=10, height =2, font=('arial',18,'bold'), bd=7, bg='gainsboro', command=turn_LED_OFF)\n",
    "btn_Off.grid(row=0,column = 2)\n",
    "\n",
    "\n",
    "root.mainloop()"
   ]
  },
  {
   "cell_type": "code",
   "execution_count": null,
   "id": "4d731373-4142-4163-8f00-a782e826fd0b",
   "metadata": {},
   "outputs": [],
   "source": []
  }
 ],
 "metadata": {
  "kernelspec": {
   "display_name": "Python 3 (ipykernel)",
   "language": "python",
   "name": "python3"
  },
  "language_info": {
   "codemirror_mode": {
    "name": "ipython",
    "version": 3
   },
   "file_extension": ".py",
   "mimetype": "text/x-python",
   "name": "python",
   "nbconvert_exporter": "python",
   "pygments_lexer": "ipython3",
   "version": "3.9.7"
  }
 },
 "nbformat": 4,
 "nbformat_minor": 5
}
