{
 "cells": [
  {
   "cell_type": "code",
   "execution_count": 7,
   "id": "24c2d340-61c0-4cb9-b34b-338e0cbc5e3d",
   "metadata": {},
   "outputs": [],
   "source": [
    "#############################################################################################################################\n",
    "#\n",
    "#                        Demo for Plasma Ignition using Relays\n",
    "#\n",
    "#############################################################################################################################\n",
    "############################# Packages loading ###################################\n",
    "\n",
    "import serial \n",
    "from tkinter import *\n",
    "import tkinter as tk \n",
    "import time   #for delay functions\n",
    "\n",
    "root = Tk()\n",
    "root.wm_title('Plasma Ignition board')\n",
    "root.configure(background = '#e0e0e0')\n",
    "root.iconbitmap('C:/Users/ASUS/Pictures/BlueOrbit-logo/generic-logo.ico')\n",
    "root.resizable(width=False, height=False)\n",
    "root.geometry(\"370x120\")\n",
    "\n",
    "mainFrame = Frame(root, bd=10, bg='gainsboro',relief=RIDGE)\n",
    "mainFrame.grid()\n",
    "\n",
    "innerFrame = Frame(mainFrame, bd=5, bg='gainsboro', relief=RIDGE)\n",
    "innerFrame.grid()\n",
    "\n",
    "       # ##########################  Serial port configuration ###########################\n",
    "\n",
    "ser = serial.Serial('COM6', 9600)  # open serial port\n",
    "time.sleep(2)                      # wait 2 seconds\n",
    "\n",
    "       # ########################## Functions set ###########################\n",
    "\n",
    "def power_ON_1():\n",
    "    ser.write(b'A')\n",
    "\n",
    "def power_OFF_1(): \n",
    "    ser.write(b'B')\n",
    "    \n",
    " \n",
    "    \n",
    "    \n",
    "        ###########################Buttons Widget###########################\n",
    "\n",
    "led_On = Button(innerFrame, text=\"Plasma ON\", width=10, height =2, font=('arial',18,'bold'), bd=7, command=power_ON_1)\n",
    "led_On.grid(row=0,column = 0)\n",
    "\n",
    "led_Off = Button(innerFrame, text=\"Plasma OFF\", width=10, height =2, font=('arial',18,'bold'), bd=7, command=power_OFF_1)\n",
    "led_Off.grid(row=0,column = 1)\n",
    "\n",
    "\n",
    "\n",
    "\n",
    "root.mainloop()\n",
    "ser.close() # Close properly the serial communication and avoid the need to turn off/on the microcontroller board or to have to unplug/plug again"
   ]
  },
  {
   "cell_type": "code",
   "execution_count": null,
   "id": "d0747c4c-8dfd-4abe-bd02-94c56c7b6cdc",
   "metadata": {},
   "outputs": [],
   "source": []
  }
 ],
 "metadata": {
  "kernelspec": {
   "display_name": "Python 3 (ipykernel)",
   "language": "python",
   "name": "python3"
  },
  "language_info": {
   "codemirror_mode": {
    "name": "ipython",
    "version": 3
   },
   "file_extension": ".py",
   "mimetype": "text/x-python",
   "name": "python",
   "nbconvert_exporter": "python",
   "pygments_lexer": "ipython3",
   "version": "3.9.12"
  }
 },
 "nbformat": 4,
 "nbformat_minor": 5
}
