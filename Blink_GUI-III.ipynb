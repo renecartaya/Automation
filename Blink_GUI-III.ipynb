{
 "cells": [
  {
   "cell_type": "code",
   "execution_count": 10,
   "id": "9116a7fb-cac4-40c9-85e9-280dcd743733",
   "metadata": {},
   "outputs": [],
   "source": [
    "import serial\n",
    "from tkinter import *\n",
    "import tkinter as tk\n",
    "import time\n",
    "\n",
    "ser = serial.Serial('COM6', baudrate = 9600, timeout = 1)\n",
    "\n",
    "def turnOnLED():\n",
    "    if blinkState.get() == 1:\n",
    "        blinkLED()\n",
    "    else:\n",
    "        ser.write(b'H')\n",
    "        \n",
    "def turnOffLED(): \n",
    "    ser.write(b'L')\n",
    "\n",
    "def blinkLED():\n",
    "    if blinkState.get() == 1:\n",
    "        ser.write(b'h')\n",
    "        time.sleep(1)\n",
    "        delay = userDelay.get()\n",
    "        ser.write(delay.encode())\n",
    "        \n",
    "# creating tkinter window \n",
    "root = Tk() \n",
    "root.wm_iconbitmap('C:/Users/renea/Pictures/Logos/gen_logo.ico')\n",
    "root.wm_title('Name of the Company')\n",
    "\n",
    "btn_On = tk.Button(root, text=\"Turn On\", command=turnOnLED)\n",
    "btn_On.grid(row=0, column=0)\n",
    "\n",
    "btn_Off = tk.Button(root, text=\"Turn Off\", command=turnOffLED)\n",
    "btn_Off.grid(row=0, column=1)\n",
    "\n",
    "blinkState = IntVar()\n",
    "chkBtn_Blink = tk.Checkbutton(root, text = \"Blink\",variable = blinkState, command = blinkLED)\n",
    "chkBtn_Blink.grid(row=0, column = 2)\n",
    "\n",
    "blinkTime = ['50','100','200','400','600','800','1000','1200']\n",
    "userDelay = StringVar()\n",
    "delayMenu = tk.OptionMenu(root,userDelay,*blinkTime)\n",
    "userDelay.set('800')\n",
    "delayLabel = tk.Label(root,text=\"Blink (ms)\")\n",
    "delayLabel.grid(row=1,column=0)\n",
    "delayMenu.grid(row=1,column=1)\n",
    "\n",
    "root.geometry(\"350x350\")\n",
    "root.mainloop()"
   ]
  },
  {
   "cell_type": "code",
   "execution_count": null,
   "id": "ad7d0e99-b92e-4e8c-95ad-c2c56df84929",
   "metadata": {},
   "outputs": [],
   "source": []
  }
 ],
 "metadata": {
  "kernelspec": {
   "display_name": "Python 3 (ipykernel)",
   "language": "python",
   "name": "python3"
  },
  "language_info": {
   "codemirror_mode": {
    "name": "ipython",
    "version": 3
   },
   "file_extension": ".py",
   "mimetype": "text/x-python",
   "name": "python",
   "nbconvert_exporter": "python",
   "pygments_lexer": "ipython3",
   "version": "3.9.7"
  }
 },
 "nbformat": 4,
 "nbformat_minor": 5
}
