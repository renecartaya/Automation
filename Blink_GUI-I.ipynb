{
 "cells": [
  {
   "cell_type": "code",
   "execution_count": null,
   "id": "d70ca087-fee6-4349-92ef-b7cbcf827347",
   "metadata": {},
   "outputs": [],
   "source": [
    "#######################################################################################################################\n",
    "#\n",
    "#                                              Blink GUI I\n",
    "#\n",
    "#######################################################################################################################"
   ]
  },
  {
   "cell_type": "code",
   "execution_count": 1,
   "id": "183cd94f-62d6-44f7-b4ee-2f1488b8018c",
   "metadata": {},
   "outputs": [],
   "source": [
    "import serial\n",
    "from tkinter import *\n",
    "import tkinter as tk "
   ]
  },
  {
   "cell_type": "code",
   "execution_count": 4,
   "id": "5353b5c4-0a06-4925-bac9-4867f1ef997d",
   "metadata": {},
   "outputs": [],
   "source": [
    "\n",
    "def turnOnLED():\n",
    "    ser.write(b'o')\n",
    "    if blinkState.get() == 1:\n",
    "        blinkLED()\n",
    "\n",
    "def turnOffLED(): \n",
    "    ser.write(b'x')\n",
    "\n",
    "def blinkLED():\n",
    "    if blinkState.get() == 1:\n",
    "        ser.write(b'b')\n",
    "        \n",
    "# creating tkinter window \n",
    "root = Tk() \n",
    "root.title('Blink GUI')\n",
    "\n",
    "btn_On = tk.Button(root, text=\"Turn On\", command=turnOnLED)\n",
    "btn_On.grid(row=0, column=0)\n",
    "\n",
    "btn_Off = tk.Button(root, text=\"Turn Off\", command=turnOffLED)\n",
    "btn_Off.grid(row=0, column=1)\n",
    "\n",
    "blinkState = IntVar()\n",
    "chkBtn_Blink = tk.Checkbutton(root, text = \"Blink\",variable = blinkState, command = blinkLED)\n",
    "chkBtn_Blink.grid(row=0, column = 2)\n",
    "\n",
    "root.geometry(\"350x350\")\n",
    "root.mainloop()"
   ]
  },
  {
   "cell_type": "code",
   "execution_count": 4,
   "id": "1ef4aafc-b75e-445b-b7fc-c8e670845325",
   "metadata": {},
   "outputs": [],
   "source": [
    "######################################## Packages Loading #######################################################\n",
    "\n",
    "import serial # require pip install PySerial for Serial communication\n",
    "from tkinter import *\n",
    "import tkinter as tk \n",
    "import time   #for delay functions\n",
    "\n",
    "################################# GUI Windown logo and name configuration ########################################\n",
    "\n",
    "root = Tk()\n",
    "root.wm_iconbitmap('C:/Users/renea/Pictures/Logos/gen_logo.ico') #\n",
    "root.wm_title('Name of the Company')\n",
    "root.resizable(width=False, height=False)\n",
    "root.geometry(\"380x130\")\n",
    "\n",
    "########################################  Frame Configuration ####################################################\n",
    "\n",
    "\n",
    "mainFrame = Frame(root, bd=10, bg='gainsboro',relief=RIDGE)\n",
    "mainFrame.grid()\n",
    "\n",
    "innerFrame = Frame(mainFrame, bd=5, bg='gainsboro', relief=RIDGE)\n",
    "innerFrame.grid()\n",
    "\n",
    "########################################  Serial port configuration ##############################################\n",
    "\n",
    "ser = serial.Serial('COM6', 9600)  # open serial port\n",
    "time.sleep(2)                      # wait 2 seconds\n",
    "\n",
    "############################################### Functions set #####################################################\n",
    "\n",
    "def turn_LED_ON():\n",
    "    ser.write(b'H')\n",
    "\n",
    "def turn_LED_OFF(): \n",
    "    ser.write(b'L')\n",
    "\n",
    "############################################### Buttons Widget#######################################################\n",
    "\n",
    "btn_On = Button(innerFrame, text=\"LED ON\", width=10, height =2, font=('arial',18,'bold'), bd=7, bg='gainsboro', command=turn_LED_ON)\n",
    "btn_On.grid(row=0,column = 0)\n",
    "\n",
    "btn_Off = Button(innerFrame, text=\"LED OFF\", width=10, height =2, font=('arial',18,'bold'), bd=7, bg='gainsboro', command=turn_LED_OFF)\n",
    "btn_Off.grid(row=0,column = 2)\n",
    "\n",
    "\n",
    "root.mainloop()"
   ]
  },
  {
   "cell_type": "code",
   "execution_count": null,
   "id": "d3b008e1-9ba7-44b6-bf4a-4f61b9f79ecc",
   "metadata": {},
   "outputs": [],
   "source": []
  },
  {
   "cell_type": "code",
   "execution_count": null,
   "id": "4ab9096d-decd-4964-a479-6eba79efd536",
   "metadata": {},
   "outputs": [],
   "source": []
  }
 ],
 "metadata": {
  "kernelspec": {
   "display_name": "Python 3 (ipykernel)",
   "language": "python",
   "name": "python3"
  },
  "language_info": {
   "codemirror_mode": {
    "name": "ipython",
    "version": 3
   },
   "file_extension": ".py",
   "mimetype": "text/x-python",
   "name": "python",
   "nbconvert_exporter": "python",
   "pygments_lexer": "ipython3",
   "version": "3.9.7"
  }
 },
 "nbformat": 4,
 "nbformat_minor": 5
}
