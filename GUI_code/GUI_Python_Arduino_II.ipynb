{
 "cells": [
  {
   "cell_type": "code",
   "execution_count": 8,
   "id": "33b07c53-030a-43a0-9fff-b92c373e4291",
   "metadata": {},
   "outputs": [],
   "source": [
    "######################################## Packages Loading #######################################################\n",
    "\n",
    "import serial # require pip install PySerial for Serial communication\n",
    "from tkinter import *\n",
    "import tkinter as tk \n",
    "import time   #for delay functions\n",
    "\n",
    "################################# GUI Windown logo and name configuration ########################################\n",
    "\n",
    "root = Tk()\n",
    "root.wm_iconbitmap('C:/Users/renea/Pictures/Logos/gen_logo.ico') #\n",
    "root.wm_title('Name of the Company')\n",
    "root.resizable(width=False, height=False)\n",
    "root.geometry(\"540x130\")\n",
    "\n",
    "########################################  Frame Configuration ####################################################\n",
    "\n",
    "\n",
    "mainFrame = Frame(root, bd=10, bg='gainsboro',relief=RIDGE)\n",
    "mainFrame.grid()\n",
    "\n",
    "innerFrame = Frame(mainFrame, bd=5, bg='gainsboro', relief=RIDGE)\n",
    "innerFrame.grid()\n",
    "\n",
    "########################################  Serial port configuration ##############################################\n",
    "\n",
    "ser = serial.Serial('COM6', 9600)  # open serial port\n",
    "time.sleep(2)                      # wait 2 seconds\n",
    "\n",
    "############################################### Functions set #####################################################\n",
    "\n",
    "def turn_LED_ON():\n",
    "    ser.write(b'H')\n",
    "\n",
    "def turn_LED_OFF(): \n",
    "    ser.write(b'L')\n",
    "\n",
    "def turn_LED_BLINK(): \n",
    "    ser.write(b'h')    \n",
    "    \n",
    "############################################### Buttons Widget#######################################################\n",
    "\n",
    "btn_On = Button(innerFrame, text=\"LED ON\", width=10, height =2, font=('arial',18,'bold'), bd=7, bg='gainsboro', command=turn_LED_ON)\n",
    "btn_On.grid(row=0,column = 0)\n",
    "\n",
    "btn_Off = Button(innerFrame, text=\"LED OFF\", width=10, height =2, font=('arial',18,'bold'), bd=7, bg='gainsboro', command=turn_LED_OFF)\n",
    "btn_Off.grid(row=0,column = 1)\n",
    "\n",
    "btn_Off = Button(innerFrame, text=\"LED Blink\", width=10, height =2, font=('arial',18,'bold'), bd=7, bg='gainsboro', command=turn_LED_BLINK)\n",
    "btn_Off.grid(row=0,column = 2)\n",
    "\n",
    "root.mainloop()"
   ]
  },
  {
   "cell_type": "code",
   "execution_count": null,
   "id": "63c4ca9f-7fcc-4f7a-b19a-95fc5c513509",
   "metadata": {},
   "outputs": [],
   "source": []
  },
  {
   "cell_type": "code",
   "execution_count": null,
   "id": "6ae41578-042b-40f5-b344-dbc6933250fc",
   "metadata": {},
   "outputs": [],
   "source": []
  }
 ],
 "metadata": {
  "kernelspec": {
   "display_name": "Python 3 (ipykernel)",
   "language": "python",
   "name": "python3"
  },
  "language_info": {
   "codemirror_mode": {
    "name": "ipython",
    "version": 3
   },
   "file_extension": ".py",
   "mimetype": "text/x-python",
   "name": "python",
   "nbconvert_exporter": "python",
   "pygments_lexer": "ipython3",
   "version": "3.9.7"
  }
 },
 "nbformat": 4,
 "nbformat_minor": 5
}
