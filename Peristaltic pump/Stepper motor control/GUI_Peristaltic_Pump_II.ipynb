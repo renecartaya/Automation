{
 "cells": [
  {
   "cell_type": "code",
   "execution_count": 4,
   "id": "51208af2-5655-405b-810a-204067f20415",
   "metadata": {},
   "outputs": [],
   "source": [
    "######################################## Packages Loading #######################################################\n",
    "\n",
    "import serial # require pip install PySerial for Serial communication\n",
    "from tkinter import *\n",
    "import tkinter as tk \n",
    "import time   #for delay functions\n",
    "\n",
    "################################# GUI Windown logo and name configuration ########################################\n",
    "\n",
    "root = Tk()\n",
    "root.wm_iconbitmap('C:/Users/renea/Pictures/Logos/gen_logo.ico') #\n",
    "root.wm_title('Peristaltic Pump Control')\n",
    "root.resizable(width=False, height=False)\n",
    "root.geometry(\"320x60\")\n",
    "\n",
    "########################################  Frame Configuration ####################################################\n",
    "\n",
    "mainFrame = Frame(root, bd=10, bg='gainsboro',relief=RIDGE)\n",
    "mainFrame.grid()\n",
    "\n",
    "innerFrame = Frame(mainFrame, bd=5, bg='gainsboro', relief=RIDGE)\n",
    "innerFrame.grid()\n",
    "\n",
    "########################################  Serial port configuration ##############################################\n",
    "\n",
    "ser = serial.Serial('COM6', 9600)  # open serial port\n",
    "time.sleep(2)                      # wait 2 seconds\n",
    "\n",
    "############################################### Functions set #####################################################\n",
    "\n",
    "def Start_pump(): \n",
    "    ser.write(b'H')\n",
    "\n",
    "def Pump_up():\n",
    "    ser.write(b'U')\n",
    "\n",
    "def Pump_down(): \n",
    "    ser.write(b'D') \n",
    "    \n",
    "############################################### Buttons Widget#######################################################\n",
    "\n",
    "btn_On = Button(text=\"Start\", width=5, height =2, font=('arial',11), bd=7, bg='gainsboro', command=Start_pump)\n",
    "btn_On.grid(row=0,column = 0)\n",
    "\n",
    "btn_On = Button(text=\"Pump Up\", width=12, height =2, font=('arial',11), bd=7, bg='gainsboro', command=Pump_up)\n",
    "btn_On.grid(row=0,column = 1)\n",
    "\n",
    "btn_Off = Button(text=\"Pump Down\", width=12, height =2, font=('arial',11), bd=7, bg='gainsboro', command=Pump_down)\n",
    "btn_Off.grid(row=0,column = 2)\n",
    "\n",
    "root.mainloop()"
   ]
  },
  {
   "cell_type": "code",
   "execution_count": null,
   "id": "352472fe-ddda-436c-a6fe-5c2abd45cf48",
   "metadata": {},
   "outputs": [],
   "source": []
  }
 ],
 "metadata": {
  "kernelspec": {
   "display_name": "Python 3 (ipykernel)",
   "language": "python",
   "name": "python3"
  },
  "language_info": {
   "codemirror_mode": {
    "name": "ipython",
    "version": 3
   },
   "file_extension": ".py",
   "mimetype": "text/x-python",
   "name": "python",
   "nbconvert_exporter": "python",
   "pygments_lexer": "ipython3",
   "version": "3.9.7"
  }
 },
 "nbformat": 4,
 "nbformat_minor": 5
}
