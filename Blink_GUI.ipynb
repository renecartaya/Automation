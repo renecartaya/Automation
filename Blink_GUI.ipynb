{
 "cells": [
  {
   "cell_type": "code",
   "execution_count": null,
   "id": "d70ca087-fee6-4349-92ef-b7cbcf827347",
   "metadata": {},
   "outputs": [],
   "source": [
    "#######################################################################################################################\n",
    "#\n",
    "#      \n",
    "#\n",
    "#######################################################################################################################"
   ]
  },
  {
   "cell_type": "code",
   "execution_count": 1,
   "id": "183cd94f-62d6-44f7-b4ee-2f1488b8018c",
   "metadata": {},
   "outputs": [],
   "source": [
    "import serial\n",
    "from tkinter import *\n",
    "import tkinter as tk "
   ]
  },
  {
   "cell_type": "code",
   "execution_count": null,
   "id": "5353b5c4-0a06-4925-bac9-4867f1ef997d",
   "metadata": {},
   "outputs": [],
   "source": [
    "commPort = '/dev/cu.usbmodem14101'\n",
    "ser = serial.Serial(commPort, baudrate = 9600, timeout = 1)\n",
    "\n",
    "def turnOnLED():\n",
    "    ser.write(b'o')\n",
    "    if blinkState.get() == 1:\n",
    "        blinkLED()\n",
    "\n",
    "def turnOffLED(): \n",
    "    ser.write(b'x')\n",
    "\n",
    "def blinkLED():\n",
    "    if blinkState.get() == 1:\n",
    "        ser.write(b'b')\n",
    "        \n",
    "# creating tkinter window \n",
    "root = Tk() \n",
    "root.title('Blink GUI')\n",
    "\n",
    "btn_On = tk.Button(root, text=\"Turn On\", command=turnOnLED)\n",
    "btn_On.grid(row=0, column=0)\n",
    "\n",
    "btn_Off = tk.Button(root, text=\"Turn Off\", command=turnOffLED)\n",
    "btn_Off.grid(row=0, column=1)\n",
    "\n",
    "blinkState = IntVar()\n",
    "chkBtn_Blink = tk.Checkbutton(root, text = \"Blink\",variable = blinkState, command = blinkLED)\n",
    "chkBtn_Blink.grid(row=0, column = 2)\n",
    "\n",
    "root.geometry(\"350x350\")\n",
    "root.mainloop()"
   ]
  },
  {
   "cell_type": "code",
   "execution_count": null,
   "id": "1ef4aafc-b75e-445b-b7fc-c8e670845325",
   "metadata": {},
   "outputs": [],
   "source": []
  }
 ],
 "metadata": {
  "kernelspec": {
   "display_name": "Python 3 (ipykernel)",
   "language": "python",
   "name": "python3"
  },
  "language_info": {
   "codemirror_mode": {
    "name": "ipython",
    "version": 3
   },
   "file_extension": ".py",
   "mimetype": "text/x-python",
   "name": "python",
   "nbconvert_exporter": "python",
   "pygments_lexer": "ipython3",
   "version": "3.9.7"
  }
 },
 "nbformat": 4,
 "nbformat_minor": 5
}
