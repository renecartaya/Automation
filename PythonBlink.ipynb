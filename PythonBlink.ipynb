{
 "cells": [
  {
   "cell_type": "code",
   "execution_count": 3,
   "id": "3c43e8a8-62cd-4d9b-89d0-8f73b6b86bd1",
   "metadata": {},
   "outputs": [],
   "source": [
    "##################################################################################\n",
    "#\n",
    "#                         Arduino Interfacing with Python\n",
    "#\n",
    "##################################################################################"
   ]
  },
  {
   "cell_type": "code",
   "execution_count": 5,
   "id": "38a2fc62-b2e6-4cf7-9364-1e15009e7719",
   "metadata": {},
   "outputs": [],
   "source": [
    "############################# Packages loading ###################################\n",
    "\n",
    "import serial # require pip install PySerial\n",
    "from tkinter import *\n",
    "import tkinter as tk "
   ]
  },
  {
   "cell_type": "code",
   "execution_count": null,
   "id": "423915a4-423f-45ec-9003-31f7aa58d11a",
   "metadata": {},
   "outputs": [],
   "source": [
    "commPort = '/dev/cu.usbmodem14101'\n",
    "ser = serial.Serial(commPort, baudrate = 9600, timeout = 1)\n",
    "\n",
    "def turnOnLED():\n",
    "    ser.write(b'o')\n",
    "\n",
    "def turnOffLED(): \n",
    "    ser.write(b'x')\n",
    "\n",
    "# creating tkinter window \n",
    "root = Tk() \n",
    "root.title('Blink GUI')\n",
    "\n",
    "btn_On= tk.Button(root, text=\"Turn On\", command=turnOnLED)\n",
    "btn_On.grid(row=0, column=0)\n",
    "\n",
    "btn_Off = tk.Button(root, text=\"Turn Off\", command=turnOffLED)\n",
    "btn_Off.grid(row=0, column=1)\n",
    "\n",
    "root.geometry(\"350x350\")\n",
    "root.mainloop()"
   ]
  },
  {
   "cell_type": "code",
   "execution_count": null,
   "id": "0dc39a9a-5183-48ec-a3ce-512620c017c2",
   "metadata": {},
   "outputs": [],
   "source": []
  }
 ],
 "metadata": {
  "kernelspec": {
   "display_name": "Python 3 (ipykernel)",
   "language": "python",
   "name": "python3"
  },
  "language_info": {
   "codemirror_mode": {
    "name": "ipython",
    "version": 3
   },
   "file_extension": ".py",
   "mimetype": "text/x-python",
   "name": "python",
   "nbconvert_exporter": "python",
   "pygments_lexer": "ipython3",
   "version": "3.9.7"
  }
 },
 "nbformat": 4,
 "nbformat_minor": 5
}
